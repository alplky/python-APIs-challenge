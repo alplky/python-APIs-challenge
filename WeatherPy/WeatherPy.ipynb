{
 "cells": [
  {
   "cell_type": "code",
   "execution_count": 34,
   "metadata": {},
   "outputs": [],
   "source": [
    "#set up dependencies\n",
    "import pandas as pd\n",
    "import numpy as np\n",
    "from citipy import citipy\n",
    "import requests\n",
    "from config import weather_api_key"
   ]
  },
  {
   "cell_type": "code",
   "execution_count": 27,
   "metadata": {},
   "outputs": [],
   "source": [
    "#create list of 500+ random cities\n",
    "\n",
    "#create random coordinates\n",
    "lat_list = np.random.uniform(-90.00, 90.00, 1500)\n",
    "lng_list = np.random.uniform(-180.00, 180.00, 1500)\n",
    "\n",
    "#combine list to create coodinates\n",
    "coords_list = list(zip(lat_list, lng_list))"
   ]
  },
  {
   "cell_type": "code",
   "execution_count": 32,
   "metadata": {},
   "outputs": [
    {
     "data": {
      "text/plain": [
       "599"
      ]
     },
     "execution_count": 32,
     "metadata": {},
     "output_type": "execute_result"
    }
   ],
   "source": [
    "#set up lists for finding cities using citipy\n",
    "cities = []\n",
    "countries = []\n",
    "\n",
    "for coords in coords_list:\n",
    "    \n",
    "    city = citipy.nearest_city(coords[0], coords[1]).city_name\n",
    "    country = citipy.nearest_city(coords[0], coords[1]).country_code\n",
    "    \n",
    "    if city not in cities:\n",
    "        cities.append(city)\n",
    "\n",
    "len(cities)"
   ]
  },
  {
   "cell_type": "code",
   "execution_count": 57,
   "metadata": {},
   "outputs": [],
   "source": [
    "#perform API calls through OpenWeatherMap API\n",
    "\n",
    "#create function to extract data from API:\n",
    "def extract_data(data):\n",
    "    return {\n",
    "        \"name\" : data[\"name\"],\n",
    "        \"lat\" : data[\"coord\"][\"lat\"],\n",
    "        \"lng\" : data[\"coord\"][\"lon\"],\n",
    "        \"max_temp_f\" : data[\"main\"][\"temp_max\"],\n",
    "        \"humidity\" : data[\"main\"][\"humidity\"],\n",
    "        \"cloudiness\" : data[\"clouds\"][\"all\"],\n",
    "        \"windspeed\" : data[\"wind\"][\"speed\"],\n",
    "        \"country\" : data[\"sys\"][\"country\"],\n",
    "        \"date\" : data[\"dt\"]\n",
    "    }"
   ]
  },
  {
   "cell_type": "code",
   "execution_count": null,
   "metadata": {},
   "outputs": [],
   "source": []
  },
  {
   "cell_type": "code",
   "execution_count": null,
   "metadata": {},
   "outputs": [],
   "source": []
  },
  {
   "cell_type": "code",
   "execution_count": null,
   "metadata": {},
   "outputs": [],
   "source": []
  }
 ],
 "metadata": {
  "environment": {
   "name": "common-cpu.m54",
   "type": "gcloud",
   "uri": "gcr.io/deeplearning-platform-release/base-cpu:m54"
  },
  "kernelspec": {
   "display_name": "Python 3",
   "language": "python",
   "name": "python3"
  },
  "language_info": {
   "codemirror_mode": {
    "name": "ipython",
    "version": 3
   },
   "file_extension": ".py",
   "mimetype": "text/x-python",
   "name": "python",
   "nbconvert_exporter": "python",
   "pygments_lexer": "ipython3",
   "version": "3.7.8"
  }
 },
 "nbformat": 4,
 "nbformat_minor": 4
}
